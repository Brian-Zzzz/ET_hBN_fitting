{
 "cells": [
  {
   "cell_type": "code",
   "execution_count": 1,
   "id": "891008f6",
   "metadata": {},
   "outputs": [],
   "source": [
    "import pandas as pd\n",
    "import numpy as np\n",
    "import matplotlib.pyplot as plt\n",
    "import math\n",
    "from scipy.optimize import curve_fit\n",
    "from sklearn.metrics import mean_squared_error\n",
    "\n",
    "freq = \"1475\"\n",
    "ind_start = 127\n",
    "ind_end = 200\n",
    "data = pd.read_csv(r'/Users/brian_z/Desktop/Research/ET_hBN_fitting/S3_mat.csv')\n",
    "x_list = np.linspace(1/60,5,300)\n",
    "frequencies = data.columns\n",
    "values = data.values\n",
    "ind = np.where(frequencies == freq)[0][0]\n",
    "y_list = values[:,ind]\n",
    "x_list = x_list[ind_start:ind_end]\n",
    "x_list = x_list - x_list[0] + 0.25\n",
    "y_list = y_list[ind_start:ind_end]\n",
    "y_list = y_list[::-1]\n",
    "# x_list = x_list[10:]\n",
    "# y_list = y_list[10:]\n",
    "\n",
    "# plt.plot(x_list, y_list)\n",
    "# plt.plot(x_list[ind_start],y_list[ind_start],\"r*\")\n",
    "# plt.plot(x_list[ind_end],y_list[ind_end],\"r*\")\n"
   ]
  },
  {
   "cell_type": "code",
   "execution_count": 2,
   "id": "5d7fa647",
   "metadata": {},
   "outputs": [],
   "source": [
    "def fit_func(x, A, B, Epsilon_0, L_p, lam_p, x_A, x_B, a):\n",
    "    return Epsilon_0 + A * (math.e ** (-2 * x / L_p * np.sin(4 * math.pi * (x - x_A) / lam_p))) / (x ** (1/2)) + B * (math.e ** (-x / L_p * np.sin(2 * math.pi * (x - x_B) / lam_p))) / (x ** a)\n",
    "# def fit_func(x, A, B, Epsilon_0, L_p, lam_p, x_A, x_B, a):\n",
    "#     return Epsilon_0 + A * (math.e ** (-2 * x / L_p * math.sin(4 * math.pi * (x - x_A) / lam_p))) / (x ** (1/2)) + B * (math.e ** (-x / L_p * math.sin(2 * math.pi * (x - x_B) / lam_p))) / (x ** a)\n",
    "# def fit_func(x, a, b):\n",
    "#     return a* (np.sin(x)) + b\n",
    "\n",
    "# def fit_func(x, A, B, Epsilon_0, L_p, lam_p, x_A, x_B, a): \"1400\"\n",
    "#     return Epsilon_0 + A * (math.e ** (-2 * x / L_p * np.sin(4 * math.pi * (x - x_A) / lam_p))) / (x ** (1/2)) + B * (math.e ** (-x / L_p * np.sin(2 * math.pi * (x - x_B) / lam_p))) / (x ** a) + 5.25542116e-10 + 2.87849263e-01 * (math.e ** (-2 * x / 1.76141737e+00 * np.sin(4 * math.pi * (x - 4.33354336e+00) / 5.77348970e+00))) / (x ** (1/2)) + 9.46007945e-01 * (math.e ** (-x / 1.76141737e+00 * np.sin(2 * math.pi * (x - 2.97882069e+00) / 5.77348970e+00))) / (x ** 2.59588092e-01)"
   ]
  },
  {
   "cell_type": "code",
   "execution_count": 3,
   "id": "51614114",
   "metadata": {},
   "outputs": [],
   "source": [
    "popt, pcov = curve_fit(fit_func, x_list, y_list, bounds=([0.5,0.5,-10,0.2,0.05,0,0,0], 10))\n",
    "# popt, pcov = curve_fit(fit_func, x_list, y_list, bounds=([0,0,0,0,0,-np.inf,-np.inf,0],10), p0 = [0.1071,0.2526,1,3,1,9.9955,2.4025,1])"
   ]
  },
  {
   "cell_type": "code",
   "execution_count": 4,
   "id": "a1af6203",
   "metadata": {},
   "outputs": [
    {
     "name": "stdout",
     "output_type": "stream",
     "text": [
      "[ 5.00000000e-01  1.14997909e+00 -1.93510247e+00  1.22547000e+00\n",
      "  1.00000000e+01  5.86412780e+00  2.67203633e+00  1.48478375e-33]\n"
     ]
    }
   ],
   "source": [
    "print(popt)"
   ]
  },
  {
   "cell_type": "code",
   "execution_count": 5,
   "id": "1161975e",
   "metadata": {},
   "outputs": [],
   "source": [
    "# print(np.sqrt(np.diag(pcov)))"
   ]
  },
  {
   "cell_type": "code",
   "execution_count": 6,
   "id": "aea9bbaf",
   "metadata": {},
   "outputs": [
    {
     "name": "stdout",
     "output_type": "stream",
     "text": [
      "0.00013525639351942697\n"
     ]
    },
    {
     "data": {
      "image/png": "[encoded data removed]",
      "text/plain": [
       "<Figure size 432x288 with 1 Axes>"
      ]
     },
     "metadata": {
      "needs_background": "light"
     },
     "output_type": "display_data"
    }
   ],
   "source": [
    "plt.plot(x_list, y_list)\n",
    "plt.plot(x_list, fit_func(x_list, *popt), \"*\")\n",
    "a = mean_squared_error(y_list, fit_func(x_list, *popt))\n",
    "print(a)"
   ]
  },
  {
   "cell_type": "code",
   "execution_count": 7,
   "id": "57152f28",
   "metadata": {},
   "outputs": [],
   "source": [
    "# print(frequencies)"
   ]
  }
 ],
 "metadata": {
  "kernelspec": {
   "display_name": "Python 3 (ipykernel)",
   "language": "python",
   "name": "python3"
  },
  "language_info": {
   "codemirror_mode": {
    "name": "ipython",
    "version": 3
   },
   "file_extension": ".py",
   "mimetype": "text/x-python",
   "name": "python",
   "nbconvert_exporter": "python",
   "pygments_lexer": "ipython3",
   "version": "3.9.12"
  }
 },
 "nbformat": 4,
 "nbformat_minor": 5
}
