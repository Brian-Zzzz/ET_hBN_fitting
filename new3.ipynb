{
 "cells": [
  {
   "cell_type": "code",
   "execution_count": 1,
   "id": "891008f6",
   "metadata": {},
   "outputs": [
    {
     "name": "stdout",
     "output_type": "stream",
     "text": [
      "[[1.11316915 1.17798958 1.23026993 ... 0.7598925  0.79485474 0.78231567]\n",
      " [1.11403305 1.1795655  1.23141825 ... 0.75996195 0.79225035 0.78214436]\n",
      " [1.11609005 1.18173379 1.23345223 ... 0.76031165 0.79115358 0.78413564]\n",
      " ...\n",
      " [1.01346383 1.00032648 0.98951082 ... 1.02127881 1.02145201 1.01861628]\n",
      " [1.01067406 0.99641525 0.9847141  ... 1.02056865 1.01857642 1.01497605]\n",
      " [1.00803321 0.99403429 0.97970151 ... 1.02061048 1.01923863 1.01437537]]\n"
     ]
    },
    {
     "ename": "UFuncTypeError",
     "evalue": "ufunc 'subtract' did not contain a loop with signature matching types (dtype('float64'), dtype('<U6')) -> None",
     "output_type": "error",
     "traceback": [
      "\u001b[0;31m---------------------------------------------------------------------------\u001b[0m",
      "\u001b[0;31mUFuncTypeError\u001b[0m                            Traceback (most recent call last)",
      "Input \u001b[0;32mIn [1]\u001b[0m, in \u001b[0;36m<cell line: 44>\u001b[0;34m()\u001b[0m\n\u001b[1;32m     42\u001b[0m y_list \u001b[38;5;241m=\u001b[39m y_list[ind_start:ind_end]\n\u001b[1;32m     43\u001b[0m y_list \u001b[38;5;241m=\u001b[39m y_list[::\u001b[38;5;241m-\u001b[39m\u001b[38;5;241m1\u001b[39m]\n\u001b[0;32m---> 44\u001b[0m popt, pcov \u001b[38;5;241m=\u001b[39m \u001b[43mcurve_fit\u001b[49m\u001b[43m(\u001b[49m\u001b[43mfit_func\u001b[49m\u001b[43m,\u001b[49m\u001b[43m \u001b[49m\u001b[43mx_list\u001b[49m\u001b[43m,\u001b[49m\u001b[43m \u001b[49m\u001b[43my_list\u001b[49m\u001b[43m,\u001b[49m\u001b[43m \u001b[49m\u001b[43mbounds\u001b[49m\u001b[38;5;241;43m=\u001b[39;49m\u001b[43m(\u001b[49m\u001b[38;5;241;43m0\u001b[39;49m\u001b[43m,\u001b[49m\u001b[43m \u001b[49m\u001b[38;5;241;43m10\u001b[39;49m\u001b[43m)\u001b[49m\u001b[43m,\u001b[49m\u001b[43m \u001b[49m\u001b[43mmaxfev\u001b[49m\u001b[43m \u001b[49m\u001b[38;5;241;43m=\u001b[39;49m\u001b[43m \u001b[49m\u001b[38;5;241;43m50000\u001b[39;49m\u001b[43m)\u001b[49m\n\u001b[1;32m     45\u001b[0m b \u001b[38;5;241m=\u001b[39m mean_squared_error(y_list, fit_func(x_list, \u001b[38;5;241m*\u001b[39mpopt))\n\u001b[1;32m     46\u001b[0m result\u001b[38;5;241m.\u001b[39mappend(popt)\n",
      "File \u001b[0;32m~/opt/anaconda3/lib/python3.9/site-packages/scipy/optimize/minpack.py:800\u001b[0m, in \u001b[0;36mcurve_fit\u001b[0;34m(f, xdata, ydata, p0, sigma, absolute_sigma, check_finite, bounds, method, jac, **kwargs)\u001b[0m\n\u001b[1;32m    797\u001b[0m \u001b[38;5;28;01mif\u001b[39;00m \u001b[38;5;124m'\u001b[39m\u001b[38;5;124mmax_nfev\u001b[39m\u001b[38;5;124m'\u001b[39m \u001b[38;5;129;01mnot\u001b[39;00m \u001b[38;5;129;01min\u001b[39;00m kwargs:\n\u001b[1;32m    798\u001b[0m     kwargs[\u001b[38;5;124m'\u001b[39m\u001b[38;5;124mmax_nfev\u001b[39m\u001b[38;5;124m'\u001b[39m] \u001b[38;5;241m=\u001b[39m kwargs\u001b[38;5;241m.\u001b[39mpop(\u001b[38;5;124m'\u001b[39m\u001b[38;5;124mmaxfev\u001b[39m\u001b[38;5;124m'\u001b[39m, \u001b[38;5;28;01mNone\u001b[39;00m)\n\u001b[0;32m--> 800\u001b[0m res \u001b[38;5;241m=\u001b[39m \u001b[43mleast_squares\u001b[49m\u001b[43m(\u001b[49m\u001b[43mfunc\u001b[49m\u001b[43m,\u001b[49m\u001b[43m \u001b[49m\u001b[43mp0\u001b[49m\u001b[43m,\u001b[49m\u001b[43m \u001b[49m\u001b[43mjac\u001b[49m\u001b[38;5;241;43m=\u001b[39;49m\u001b[43mjac\u001b[49m\u001b[43m,\u001b[49m\u001b[43m \u001b[49m\u001b[43mbounds\u001b[49m\u001b[38;5;241;43m=\u001b[39;49m\u001b[43mbounds\u001b[49m\u001b[43m,\u001b[49m\u001b[43m \u001b[49m\u001b[43mmethod\u001b[49m\u001b[38;5;241;43m=\u001b[39;49m\u001b[43mmethod\u001b[49m\u001b[43m,\u001b[49m\n\u001b[1;32m    801\u001b[0m \u001b[43m                    \u001b[49m\u001b[38;5;241;43m*\u001b[39;49m\u001b[38;5;241;43m*\u001b[39;49m\u001b[43mkwargs\u001b[49m\u001b[43m)\u001b[49m\n\u001b[1;32m    803\u001b[0m \u001b[38;5;28;01mif\u001b[39;00m \u001b[38;5;129;01mnot\u001b[39;00m res\u001b[38;5;241m.\u001b[39msuccess:\n\u001b[1;32m    804\u001b[0m     \u001b[38;5;28;01mraise\u001b[39;00m \u001b[38;5;167;01mRuntimeError\u001b[39;00m(\u001b[38;5;124m\"\u001b[39m\u001b[38;5;124mOptimal parameters not found: \u001b[39m\u001b[38;5;124m\"\u001b[39m \u001b[38;5;241m+\u001b[39m res\u001b[38;5;241m.\u001b[39mmessage)\n",
      "File \u001b[0;32m~/opt/anaconda3/lib/python3.9/site-packages/scipy/optimize/_lsq/least_squares.py:820\u001b[0m, in \u001b[0;36mleast_squares\u001b[0;34m(fun, x0, jac, bounds, method, ftol, xtol, gtol, x_scale, loss, f_scale, diff_step, tr_solver, tr_options, jac_sparsity, max_nfev, verbose, args, kwargs)\u001b[0m\n\u001b[1;32m    817\u001b[0m \u001b[38;5;28;01mif\u001b[39;00m method \u001b[38;5;241m==\u001b[39m \u001b[38;5;124m'\u001b[39m\u001b[38;5;124mtrf\u001b[39m\u001b[38;5;124m'\u001b[39m:\n\u001b[1;32m    818\u001b[0m     x0 \u001b[38;5;241m=\u001b[39m make_strictly_feasible(x0, lb, ub)\n\u001b[0;32m--> 820\u001b[0m f0 \u001b[38;5;241m=\u001b[39m \u001b[43mfun_wrapped\u001b[49m\u001b[43m(\u001b[49m\u001b[43mx0\u001b[49m\u001b[43m)\u001b[49m\n\u001b[1;32m    822\u001b[0m \u001b[38;5;28;01mif\u001b[39;00m f0\u001b[38;5;241m.\u001b[39mndim \u001b[38;5;241m!=\u001b[39m \u001b[38;5;241m1\u001b[39m:\n\u001b[1;32m    823\u001b[0m     \u001b[38;5;28;01mraise\u001b[39;00m \u001b[38;5;167;01mValueError\u001b[39;00m(\u001b[38;5;124m\"\u001b[39m\u001b[38;5;124m`fun` must return at most 1-d array_like. \u001b[39m\u001b[38;5;124m\"\u001b[39m\n\u001b[1;32m    824\u001b[0m                      \u001b[38;5;124m\"\u001b[39m\u001b[38;5;124mf0.shape: \u001b[39m\u001b[38;5;132;01m{0}\u001b[39;00m\u001b[38;5;124m\"\u001b[39m\u001b[38;5;241m.\u001b[39mformat(f0\u001b[38;5;241m.\u001b[39mshape))\n",
      "File \u001b[0;32m~/opt/anaconda3/lib/python3.9/site-packages/scipy/optimize/_lsq/least_squares.py:815\u001b[0m, in \u001b[0;36mleast_squares.<locals>.fun_wrapped\u001b[0;34m(x)\u001b[0m\n\u001b[1;32m    814\u001b[0m \u001b[38;5;28;01mdef\u001b[39;00m \u001b[38;5;21mfun_wrapped\u001b[39m(x):\n\u001b[0;32m--> 815\u001b[0m     \u001b[38;5;28;01mreturn\u001b[39;00m np\u001b[38;5;241m.\u001b[39matleast_1d(\u001b[43mfun\u001b[49m\u001b[43m(\u001b[49m\u001b[43mx\u001b[49m\u001b[43m,\u001b[49m\u001b[43m \u001b[49m\u001b[38;5;241;43m*\u001b[39;49m\u001b[43margs\u001b[49m\u001b[43m,\u001b[49m\u001b[43m \u001b[49m\u001b[38;5;241;43m*\u001b[39;49m\u001b[38;5;241;43m*\u001b[39;49m\u001b[43mkwargs\u001b[49m\u001b[43m)\u001b[49m)\n",
      "File \u001b[0;32m~/opt/anaconda3/lib/python3.9/site-packages/scipy/optimize/minpack.py:485\u001b[0m, in \u001b[0;36m_wrap_func.<locals>.func_wrapped\u001b[0;34m(params)\u001b[0m\n\u001b[1;32m    484\u001b[0m \u001b[38;5;28;01mdef\u001b[39;00m \u001b[38;5;21mfunc_wrapped\u001b[39m(params):\n\u001b[0;32m--> 485\u001b[0m     \u001b[38;5;28;01mreturn\u001b[39;00m \u001b[43mfunc\u001b[49m\u001b[43m(\u001b[49m\u001b[43mxdata\u001b[49m\u001b[43m,\u001b[49m\u001b[43m \u001b[49m\u001b[38;5;241;43m*\u001b[39;49m\u001b[43mparams\u001b[49m\u001b[43m)\u001b[49m \u001b[38;5;241m-\u001b[39m ydata\n",
      "Input \u001b[0;32mIn [1]\u001b[0m, in \u001b[0;36mfit_func\u001b[0;34m(x, a)\u001b[0m\n\u001b[1;32m     33\u001b[0m \u001b[38;5;28;01mdef\u001b[39;00m \u001b[38;5;21mfit_func\u001b[39m(x, a):\n\u001b[0;32m---> 34\u001b[0m     \u001b[38;5;28;01mreturn\u001b[39;00m Epsilon_0 \u001b[38;5;241m+\u001b[39m A \u001b[38;5;241m*\u001b[39m (math\u001b[38;5;241m.\u001b[39me \u001b[38;5;241m*\u001b[39m\u001b[38;5;241m*\u001b[39m (\u001b[38;5;241m-\u001b[39m\u001b[38;5;241m2\u001b[39m \u001b[38;5;241m*\u001b[39m x \u001b[38;5;241m/\u001b[39m L_p \u001b[38;5;241m*\u001b[39m np\u001b[38;5;241m.\u001b[39msin(\u001b[38;5;241m4\u001b[39m \u001b[38;5;241m*\u001b[39m math\u001b[38;5;241m.\u001b[39mpi \u001b[38;5;241m*\u001b[39m (x \u001b[38;5;241m-\u001b[39m x_A) \u001b[38;5;241m/\u001b[39m lam_p))) \u001b[38;5;241m/\u001b[39m (x \u001b[38;5;241m*\u001b[39m\u001b[38;5;241m*\u001b[39m (\u001b[38;5;241m1\u001b[39m\u001b[38;5;241m/\u001b[39m\u001b[38;5;241m2\u001b[39m)) \u001b[38;5;241m+\u001b[39m B \u001b[38;5;241m*\u001b[39m (math\u001b[38;5;241m.\u001b[39me \u001b[38;5;241m*\u001b[39m\u001b[38;5;241m*\u001b[39m (\u001b[38;5;241m-\u001b[39mx \u001b[38;5;241m/\u001b[39m L_p \u001b[38;5;241m*\u001b[39m np\u001b[38;5;241m.\u001b[39msin(\u001b[38;5;241m2\u001b[39m \u001b[38;5;241m*\u001b[39m math\u001b[38;5;241m.\u001b[39mpi \u001b[38;5;241m*\u001b[39m (\u001b[43mx\u001b[49m\u001b[43m \u001b[49m\u001b[38;5;241;43m-\u001b[39;49m\u001b[43m \u001b[49m\u001b[43mx_B\u001b[49m) \u001b[38;5;241m/\u001b[39m lam_p))) \u001b[38;5;241m/\u001b[39m (x \u001b[38;5;241m*\u001b[39m\u001b[38;5;241m*\u001b[39m a)\n",
      "\u001b[0;31mUFuncTypeError\u001b[0m: ufunc 'subtract' did not contain a loop with signature matching types (dtype('float64'), dtype('<U6')) -> None"
     ]
    }
   ],
   "source": [
    "import pandas as pd\n",
    "import numpy as np\n",
    "import matplotlib.pyplot as plt\n",
    "import math\n",
    "from scipy.optimize import curve_fit\n",
    "from sklearn.metrics import mean_squared_error\n",
    "\n",
    "# def fit_func(x, A, B, Epsilon_0, L_p, lam_p, x_A, x_B, a):\n",
    "#     return Epsilon_0 + A * (math.e ** (-2 * x / L_p * np.sin(4 * math.pi * (x - x_A) / lam_p))) / (x ** (1/2)) + B * (math.e ** (-x / L_p * np.sin(2 * math.pi * (x - x_B) / lam_p))) / (x ** a)\n",
    "\n",
    "data = pd.read_csv(r'/Users/brian_z/Desktop/Research/ET_hBN_fitting/S3_mat.csv')\n",
    "initial = pd.read_csv(r'/Users/brian_z/Desktop/Research/ET_hBN_fitting/backup/recorded values.csv')\n",
    "init = initial.values\n",
    "values = data.values\n",
    "print(values)\n",
    "values = values[:,10:]\n",
    "init = init[10:,:]\n",
    "cut = np.load(\"slice.npy\")\n",
    "result = []\n",
    "mse = []\n",
    "\n",
    "# for i in range(len(cut[0])):\n",
    "i = 0\n",
    "\n",
    "A = init[i][1]\n",
    "B = init[i][3]\n",
    "Epsilon_0 = init[i][7]\n",
    "L_p = init[i][5]\n",
    "lam_p = init[i][6]\n",
    "x_A = init[i][2]\n",
    "x_B = init[i][4]\n",
    "    \n",
    "def fit_func(x, a):\n",
    "    return Epsilon_0 + A * (math.e ** (-2 * x / L_p * np.sin(4 * math.pi * (x - x_A) / lam_p))) / (x ** (1/2)) + B * (math.e ** (-x / L_p * np.sin(2 * math.pi * (x - x_B) / lam_p))) / (x ** a)\n",
    "\n",
    "ind_start = int(cut[1][i])\n",
    "ind_end = int(cut[2][i])\n",
    "x_list = np.linspace(1/60,5,300)\n",
    "y_list = values[:,i]\n",
    "x_list = x_list[ind_start:ind_end]\n",
    "x_list = x_list - x_list[0] + 0.25\n",
    "y_list = y_list[ind_start:ind_end]\n",
    "y_list = y_list[::-1]\n",
    "popt, pcov = curve_fit(fit_func, x_list, y_list, bounds=(0, 10), maxfev = 50000)\n",
    "b = mean_squared_error(y_list, fit_func(x_list, *popt))\n",
    "result.append(popt)\n",
    "mse.append(b)\n",
    "print(cut[0][i])\n",
    "plt.plot(x_list, y_list)\n",
    "plt.plot(x_list, fit_func(x_list, *popt), \"*\")\n",
    "plt.show()\n",
    "\n",
    "\n",
    "\n",
    "# x_list = np.linspace(1/60,5,300)\n",
    "# frequencies = data.columns\n",
    "# ind = np.where(frequencies == freq)[0][0]\n",
    "# y_list = values[:,ind]\n",
    "# x_list = x_list[ind_start:ind_end]\n",
    "# x_list = x_list - x_list[0] + 0.25\n",
    "# y_list = y_list[ind_start:ind_end]\n",
    "# y_list = y_list[::-1]\n",
    "# x_list = x_list[10:]\n",
    "# y_list = y_list[10:]\n",
    "\n",
    "# plt.plot(x_list, y_list)\n",
    "# plt.plot(x_list[ind_start],y_list[ind_start],\"r*\")\n",
    "# plt.plot(x_list[ind_end],y_list[ind_end],\"r*\")\n"
   ]
  },
  {
   "cell_type": "code",
   "execution_count": null,
   "id": "4043f049",
   "metadata": {},
   "outputs": [],
   "source": [
    "# print(init)"
   ]
  },
  {
   "cell_type": "code",
   "execution_count": null,
   "id": "5d7fa647",
   "metadata": {},
   "outputs": [],
   "source": [
    "# def fit_func(x, A, B, Epsilon_0, L_p, lam_p, x_A, x_B, a):\n",
    "#     return Epsilon_0 + A * (math.e ** (-2 * x / L_p * np.sin(4 * math.pi * (x - x_A) / lam_p))) / (x ** (1/2)) + B * (math.e ** (-x / L_p * np.sin(2 * math.pi * (x - x_B) / lam_p))) / (x ** a)\n",
    "# def fit_func(x, A, B, Epsilon_0, L_p, lam_p, x_A, x_B, a):\n",
    "#     return Epsilon_0 + A * (math.e ** (-2 * x / L_p * math.sin(4 * math.pi * (x - x_A) / lam_p))) / (x ** (1/2)) + B * (math.e ** (-x / L_p * math.sin(2 * math.pi * (x - x_B) / lam_p))) / (x ** a)\n",
    "# def fit_func(x, a, b):\n",
    "#     return a* (np.sin(x)) + b\n",
    "# def fit_func(x, A, B, Epsilon_0, L_p, lam_p, x_A, x_B, a):\n",
    "#     return Epsilon_0 + A * (math.e ** (-2 * x / L_p * np.sin(4 * math.pi * (x - x_A) / lam_p))) / (x ** (1/2)) + B * (math.e ** (-x / L_p * np.sin(2 * math.pi * (x - x_B) / lam_p))) / (x ** a) + 5.25542116e-10 + 2.87849263e-01 * (math.e ** (-2 * x / 1.76141737e+00 * np.sin(4 * math.pi * (x - 4.33354336e+00) / 5.77348970e+00))) / (x ** (1/2)) + 9.46007945e-01 * (math.e ** (-x / 1.76141737e+00 * np.sin(2 * math.pi * (x - 2.97882069e+00) / 5.77348970e+00))) / (x ** 2.59588092e-01)"
   ]
  },
  {
   "cell_type": "code",
   "execution_count": null,
   "id": "51614114",
   "metadata": {},
   "outputs": [],
   "source": [
    "# popt, pcov = curve_fit(fit_func, x_list, y_list, bounds=([0,0,0,0,0,0,0,0], 5))\n",
    "# popt, pcov = curve_fit(fit_func, x_list, y_list, bounds=([0,0,0,0,0,-np.inf,-np.inf,0],10), p0 = [0.1071,0.2526,1,3,1,9.9955,2.4025,1])"
   ]
  },
  {
   "cell_type": "code",
   "execution_count": null,
   "id": "a1af6203",
   "metadata": {},
   "outputs": [],
   "source": [
    "# print(popt)"
   ]
  },
  {
   "cell_type": "code",
   "execution_count": null,
   "id": "1161975e",
   "metadata": {},
   "outputs": [],
   "source": [
    "# print(np.sqrt(np.diag(pcov)))"
   ]
  },
  {
   "cell_type": "code",
   "execution_count": null,
   "id": "aea9bbaf",
   "metadata": {},
   "outputs": [],
   "source": [
    "# plt.plot(x_list, y_list)\n",
    "# plt.plot(x_list, fit_func(x_list, *popt), \"*\")\n",
    "# a = mean_squared_error(y_list, fit_func(x_list, *popt))\n",
    "# print(a)"
   ]
  },
  {
   "cell_type": "code",
   "execution_count": null,
   "id": "57152f28",
   "metadata": {},
   "outputs": [],
   "source": [
    "# print(frequencies)"
   ]
  }
 ],
 "metadata": {
  "kernelspec": {
   "display_name": "Python 3 (ipykernel)",
   "language": "python",
   "name": "python3"
  },
  "language_info": {
   "codemirror_mode": {
    "name": "ipython",
    "version": 3
   },
   "file_extension": ".py",
   "mimetype": "text/x-python",
   "name": "python",
   "nbconvert_exporter": "python",
   "pygments_lexer": "ipython3",
   "version": "3.9.12"
  }
 },
 "nbformat": 4,
 "nbformat_minor": 5
}
